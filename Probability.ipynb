{
  "nbformat": 4,
  "nbformat_minor": 0,
  "metadata": {
    "colab": {
      "provenance": [],
      "authorship_tag": "ABX9TyNZ9R/NdyIl1uNNz6mTZnYJ",
      "include_colab_link": true
    },
    "kernelspec": {
      "name": "python3",
      "display_name": "Python 3"
    },
    "language_info": {
      "name": "python"
    }
  },
  "cells": [
    {
      "cell_type": "markdown",
      "metadata": {
        "id": "view-in-github",
        "colab_type": "text"
      },
      "source": [
        "<a href=\"https://colab.research.google.com/github/githubmorgue/System-Engineering/blob/main/Probability.ipynb\" target=\"_parent\"><img src=\"https://colab.research.google.com/assets/colab-badge.svg\" alt=\"Open In Colab\"/></a>"
      ]
    },
    {
      "cell_type": "code",
      "execution_count": 1,
      "metadata": {
        "colab": {
          "base_uri": "https://localhost:8080/"
        },
        "id": "KvSCJ5PEuGbX",
        "outputId": "91617574-c841-45a0-d47d-27404f8b2d20"
      },
      "outputs": [
        {
          "output_type": "stream",
          "name": "stdout",
          "text": [
            "The probability that X belongs to [0.5, 2] is: 0.3984131339906417\n"
          ]
        }
      ],
      "source": [
        "import scipy.stats as stats\n",
        "\n",
        "mean = 1\n",
        "variance = 2\n",
        "\n",
        "lower_bound = 0.5\n",
        "upper_bound = 2\n",
        "\n",
        "# 计算标准正态分布的 Z 值\n",
        "z_lower = (lower_bound - mean) / (variance ** 0.5)\n",
        "z_upper = (upper_bound - mean) / (variance ** 0.5)\n",
        "\n",
        "# 使用标准正态分布的累积分布函数计算概率\n",
        "probability = stats.norm.cdf(z_upper) - stats.norm.cdf(z_lower)\n",
        "\n",
        "print(\"The probability that X belongs to [0.5, 2] is:\", probability)"
      ]
    }
  ]
}